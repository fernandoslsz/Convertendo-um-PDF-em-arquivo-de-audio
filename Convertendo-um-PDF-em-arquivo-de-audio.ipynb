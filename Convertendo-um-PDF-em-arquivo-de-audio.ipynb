{
 "cells": [
  {
   "cell_type": "code",
   "execution_count": 7,
   "metadata": {},
   "outputs": [],
   "source": [
    "# Importando as bibliotecas.\n",
    "import pyttsx3\n",
    "import pdfplumber\n",
    "import PyPDF2"
   ]
  },
  {
   "cell_type": "code",
   "execution_count": 8,
   "metadata": {},
   "outputs": [],
   "source": [
    "# Pegar o nome do arquivo e sua localização.\n",
    "arquivo = 'ciencia-de-dados.pdf'"
   ]
  },
  {
   "cell_type": "code",
   "execution_count": 9,
   "metadata": {},
   "outputs": [],
   "source": [
    "# Criando um objeto para o PDF\n",
    "objetoPDF = open(arquivo, 'rb')"
   ]
  },
  {
   "cell_type": "code",
   "execution_count": 10,
   "metadata": {},
   "outputs": [],
   "source": [
    "# Criando um objeto para ler o PDF\n",
    "leitorPDF = PyPDF2.PdfFileReader(objetoPDF)"
   ]
  },
  {
   "cell_type": "code",
   "execution_count": 11,
   "metadata": {},
   "outputs": [],
   "source": [
    "# Verificar o número de páginas\n",
    "paginas = leitorPDF.numPages"
   ]
  },
  {
   "cell_type": "code",
   "execution_count": 13,
   "metadata": {},
   "outputs": [
    {
     "name": "stdout",
     "output_type": "stream",
     "text": [
      "Ciência de dados é uma área interdisciplinar voltada para o estudo e a análise de dados \n",
      "econômicos, financeiros e sociais, estruturados e não-estruturados, que visa a extração de \n",
      "conhecimento, detecção de padrões e/ou obtenção de insights para possíveis tomadas de \n",
      "decisão. Ciência de dados enquanto campo existe há 30 anos, porém ganhou mais destaque \n",
      "nos últimos anos devido a alguns fatores como o surgimento e popularização de grandes \n",
      "bancos de dados e o desenvolvimento de áreas como machine learning. Cientistas de Dados \n",
      "podem trabalhar no setor privado, por exemplo, transformando grande quantidade de dados \n",
      "brutos em insights de negócios, auxiliando empresas em tomadas de decisões para atingir \n",
      "melhores resultados ou na academia e terceiro setor como pesquisadores quantitativos \n",
      "interdisciplinares. \n"
     ]
    }
   ],
   "source": [
    "# Criar um objeto e loop para analisar as páginas\n",
    "with pdfplumber.open(arquivo) as pdf:\n",
    "    #Loop para ler as páginas\n",
    "    for i in range(0, paginas):\n",
    "        pagina = pdf.pages[i]\n",
    "        texto = pagina.extract_text()\n",
    "        print(texto)\n",
    "        locutor = pyttsx3.init()\n",
    "        locutor.say(texto)\n",
    "        locutor.runAndWait()"
   ]
  }
 ],
 "metadata": {
  "kernelspec": {
   "display_name": "Python 3",
   "language": "python",
   "name": "python3"
  },
  "language_info": {
   "codemirror_mode": {
    "name": "ipython",
    "version": 3
   },
   "file_extension": ".py",
   "mimetype": "text/x-python",
   "name": "python",
   "nbconvert_exporter": "python",
   "pygments_lexer": "ipython3",
   "version": "3.7.3"
  }
 },
 "nbformat": 4,
 "nbformat_minor": 4
}
